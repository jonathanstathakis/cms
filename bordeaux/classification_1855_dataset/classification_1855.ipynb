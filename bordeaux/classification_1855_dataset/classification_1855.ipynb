{
 "cells": [
  {
   "cell_type": "markdown",
   "metadata": {},
   "source": [
    "# 1855 Classification\n",
    "\n",
    "An exploratory analysis of the statistics of the 1855 classification."
   ]
  },
  {
   "cell_type": "code",
   "execution_count": 18,
   "metadata": {},
   "outputs": [],
   "source": [
    "import polars as pl\n",
    "from polars import DataFrame, col, all, config\n",
    "config.Config.set_tbl_rows(15)\n",
    "\n",
    "df = (\n",
    "    pl.read_csv(\"classification_1855.csv\", truncate_ragged_lines=True)\n",
    "    .with_columns(\n",
    "        col('growth')\n",
    "                  .replace(\n",
    "                      {\"superior first\":0, \n",
    "                       \"first\":1,\n",
    "                       \"second\":2,\n",
    "                       \"third\":3,\n",
    "                       \"fourth\":4,\n",
    "                       \"fifth\":5\n",
    "                    }\n",
    "                      )\n",
    "                  .cast(int)\n",
    "                  .alias('growth_rank')\n",
    "                )\n",
    "    .sort('growth_rank')\n",
    "    .write_csv('classification_1855.csv')\n",
    "    )\n",
    "df\n"
   ]
  },
  {
   "cell_type": "markdown",
   "metadata": {},
   "source": [
    "## Expectations\n",
    "\n",
    "The dataset should contain the following:\n",
    "\n",
    "- red first growths: 5\n",
    "- red second growths: 14\n",
    "- red third growths: 15\n",
    "- red fourth growths: 10\n",
    "- red fifth growths: 18\n",
    "- white first growths superior: 1\n",
    "- white first growths: 11\n",
    "- white second growths: 16"
   ]
  },
  {
   "cell_type": "code",
   "execution_count": 4,
   "metadata": {},
   "outputs": [],
   "source": [
    "df.filter(col('color').eq('red'), col('growth').eq('first')).write_csv('attachments/bordeaux_first_growths.csv')\n"
   ]
  },
  {
   "cell_type": "code",
   "execution_count": 3,
   "metadata": {},
   "outputs": [],
   "source": [
    "# first growths\n",
    "def num_elements_by_group(color, growth):\n",
    "    return df.filter(col('color').eq(color), col('growth').eq (growth)).shape[0]\n",
    "assert num_elements_by_group('red','first') == 5\n",
    "\n",
    "# second growths\n",
    "\n",
    "num_second_growths = num_elements_by_group('red','second')\n",
    "assert num_second_growths == 14, num_second_growths\n"
   ]
  }
 ],
 "metadata": {
  "kernelspec": {
   "display_name": "Python 3",
   "language": "python",
   "name": "python3"
  },
  "language_info": {
   "codemirror_mode": {
    "name": "ipython",
    "version": 3
   },
   "file_extension": ".py",
   "mimetype": "text/x-python",
   "name": "python",
   "nbconvert_exporter": "python",
   "pygments_lexer": "ipython3",
   "version": "3.12.2"
  }
 },
 "nbformat": 4,
 "nbformat_minor": 2
}
